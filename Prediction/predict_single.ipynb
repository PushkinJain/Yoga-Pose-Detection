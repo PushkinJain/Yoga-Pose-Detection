{
 "cells": [
  {
   "cell_type": "code",
   "execution_count": 1,
   "id": "61c56cde-ff6d-4a79-80da-afbfad54ea9d",
   "metadata": {},
   "outputs": [
    {
     "name": "stderr",
     "output_type": "stream",
     "text": [
      "C:\\Users\\Santosh\\Desktop\\fyp\\fypvenv\\lib\\site-packages\\keras\\src\\saving\\saving_lib.py:576: UserWarning: Skipping variable loading for optimizer 'rmsprop', because it has 12 variables whereas the saved optimizer has 22 variables. \n",
      "  saveable.load_own_variables(weights_store.get(inner_path))\n"
     ]
    }
   ],
   "source": [
    "from tensorflow import keras\n",
    "\n",
    "# Load the saved model\n",
    "model = keras.models.load_model('C:\\\\Users\\\\Santosh\\\\Desktop\\\\fyp\\\\src\\\\saved_models\\\\cnn_landmark_model.keras')\n"
   ]
  },
  {
   "cell_type": "code",
   "execution_count": 2,
   "id": "85bb581f-d312-4ed3-bdbd-0df27c2fcbe5",
   "metadata": {},
   "outputs": [],
   "source": [
    "import cv2\n",
    "import mediapipe as mp\n",
    "import numpy as np\n",
    "\n",
    "def skeletonize_image(image_path, output_path):\n",
    "    # Initialize MediaPipe Pose\n",
    "    mp_pose = mp.solutions.pose\n",
    "    mp_drawing = mp.solutions.drawing_utils\n",
    "    pose = mp_pose.Pose(static_image_mode=True, min_detection_confidence=0.5)\n",
    "\n",
    "    # Read the image\n",
    "    image = cv2.imread(image_path)\n",
    "    image_height, image_width, _ = image.shape\n",
    "\n",
    "    # Convert the image to RGB\n",
    "    image_rgb = cv2.cvtColor(image, cv2.COLOR_BGR2RGB)\n",
    "\n",
    "    # Process the image and find the pose\n",
    "    result = pose.process(image_rgb)\n",
    "\n",
    "    # Create a blank numpy array with zeros\n",
    "    skeleton_image = np.zeros((image_height, image_width, 3), dtype=np.uint8)\n",
    "\n",
    "    # Draw the skeleton on the blank image\n",
    "    if result.pose_landmarks:\n",
    "        mp_drawing.draw_landmarks(\n",
    "            skeleton_image, \n",
    "            result.pose_landmarks, \n",
    "            mp_pose.POSE_CONNECTIONS,\n",
    "            landmark_drawing_spec=mp_drawing.DrawingSpec(color=(255, 255, 255), thickness=5, circle_radius=5),\n",
    "            connection_drawing_spec=mp_drawing.DrawingSpec(color=(255, 255, 255), thickness=2, circle_radius=2)\n",
    "        )\n",
    "\n",
    "    # Save the skeletonized image\n",
    "    cv2.imwrite(output_path, skeleton_image)\n",
    "\n",
    "    return skeleton_image\n"
   ]
  },
  {
   "cell_type": "code",
   "execution_count": 3,
   "id": "9c581e4b-59f0-4c85-96c0-a90db230cd47",
   "metadata": {},
   "outputs": [],
   "source": [
    "input_image_path = 'C:\\\\Users\\\\Santosh\\\\Desktop\\\\fyp\\\\DATASET\\\\downdogt.jpg'\n",
    "output_image_path = 'C:\\\\Users\\\\Santosh\\\\Desktop\\\\fyp\\\\DATASET\\\\skele_downdog.jpg'"
   ]
  },
  {
   "cell_type": "code",
   "execution_count": 5,
   "id": "ee45a76f-b89c-426c-9939-06214f34f3c3",
   "metadata": {},
   "outputs": [
    {
     "name": "stderr",
     "output_type": "stream",
     "text": [
      "C:\\Users\\Santosh\\Desktop\\fyp\\fypvenv\\lib\\site-packages\\google\\protobuf\\symbol_database.py:55: UserWarning: SymbolDatabase.GetPrototype() is deprecated. Please use message_factory.GetMessageClass() instead. SymbolDatabase.GetPrototype() will be removed soon.\n",
      "  warnings.warn('SymbolDatabase.GetPrototype() is deprecated. Please '\n"
     ]
    },
    {
     "data": {
      "text/plain": [
       "array([[[0, 0, 0],\n",
       "        [0, 0, 0],\n",
       "        [0, 0, 0],\n",
       "        ...,\n",
       "        [0, 0, 0],\n",
       "        [0, 0, 0],\n",
       "        [0, 0, 0]],\n",
       "\n",
       "       [[0, 0, 0],\n",
       "        [0, 0, 0],\n",
       "        [0, 0, 0],\n",
       "        ...,\n",
       "        [0, 0, 0],\n",
       "        [0, 0, 0],\n",
       "        [0, 0, 0]],\n",
       "\n",
       "       [[0, 0, 0],\n",
       "        [0, 0, 0],\n",
       "        [0, 0, 0],\n",
       "        ...,\n",
       "        [0, 0, 0],\n",
       "        [0, 0, 0],\n",
       "        [0, 0, 0]],\n",
       "\n",
       "       ...,\n",
       "\n",
       "       [[0, 0, 0],\n",
       "        [0, 0, 0],\n",
       "        [0, 0, 0],\n",
       "        ...,\n",
       "        [0, 0, 0],\n",
       "        [0, 0, 0],\n",
       "        [0, 0, 0]],\n",
       "\n",
       "       [[0, 0, 0],\n",
       "        [0, 0, 0],\n",
       "        [0, 0, 0],\n",
       "        ...,\n",
       "        [0, 0, 0],\n",
       "        [0, 0, 0],\n",
       "        [0, 0, 0]],\n",
       "\n",
       "       [[0, 0, 0],\n",
       "        [0, 0, 0],\n",
       "        [0, 0, 0],\n",
       "        ...,\n",
       "        [0, 0, 0],\n",
       "        [0, 0, 0],\n",
       "        [0, 0, 0]]], dtype=uint8)"
      ]
     },
     "execution_count": 5,
     "metadata": {},
     "output_type": "execute_result"
    }
   ],
   "source": [
    "skeletonize_image(input_image_path, output_image_path)"
   ]
  },
  {
   "cell_type": "code",
   "execution_count": 6,
   "id": "57bd9f6e-35db-47f5-adcd-02bc7282e525",
   "metadata": {},
   "outputs": [],
   "source": [
    "from tensorflow.keras.preprocessing.image import load_img\n",
    "\n",
    "img = load_img(output_image_path, target_size=(75, 75))\n",
    "\n",
    "from tensorflow.keras.preprocessing.image import img_to_array\n",
    "\n",
    "img_array = img_to_array(img)\n",
    "\n",
    "img_array = img_array / 255.0\n",
    "\n",
    "import numpy as np\n",
    "\n",
    "img_array = np.expand_dims(img_array, axis=0)\n"
   ]
  },
  {
   "cell_type": "code",
   "execution_count": 8,
   "id": "33d4de8a-e84b-4da4-9185-d78e06504df8",
   "metadata": {},
   "outputs": [
    {
     "name": "stdout",
     "output_type": "stream",
     "text": [
      "\u001b[1m1/1\u001b[0m \u001b[32m━━━━━━━━━━━━━━━━━━━━\u001b[0m\u001b[37m\u001b[0m \u001b[1m1s\u001b[0m 781ms/step\n"
     ]
    },
    {
     "data": {
      "text/plain": [
       "'downdog'"
      ]
     },
     "execution_count": 8,
     "metadata": {},
     "output_type": "execute_result"
    }
   ],
   "source": [
    "pose_map = {0: 'downdog', 1: 'goddess', 2: 'plank', 3: 'tree', 4: 'warrior'}\n",
    "\n",
    "predi = model.predict(img_array)\n",
    "predicted_class_index = np.argmax(predi, axis=1)[0]\n",
    "\n",
    "predicted_pose_name = pose_map[predicted_class_index]\n",
    "predicted_pose_name"
   ]
  },
  {
   "cell_type": "code",
   "execution_count": null,
   "id": "812debd8-8692-4768-a993-2b55f7a9237e",
   "metadata": {},
   "outputs": [],
   "source": []
  }
 ],
 "metadata": {
  "kernelspec": {
   "display_name": "Python 3 (ipykernel)",
   "language": "python",
   "name": "python3"
  },
  "language_info": {
   "codemirror_mode": {
    "name": "ipython",
    "version": 3
   },
   "file_extension": ".py",
   "mimetype": "text/x-python",
   "name": "python",
   "nbconvert_exporter": "python",
   "pygments_lexer": "ipython3",
   "version": "3.10.4"
  }
 },
 "nbformat": 4,
 "nbformat_minor": 5
}
