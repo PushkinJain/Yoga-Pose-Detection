{
 "cells": [
  {
   "cell_type": "code",
   "execution_count": 1,
   "id": "61c56cde-ff6d-4a79-80da-afbfad54ea9d",
   "metadata": {},
   "outputs": [
    {
     "name": "stderr",
     "output_type": "stream",
     "text": [
      "C:\\Users\\Santosh\\Desktop\\fyp\\fypvenv\\lib\\site-packages\\keras\\src\\saving\\saving_lib.py:576: UserWarning: Skipping variable loading for optimizer 'rmsprop', because it has 12 variables whereas the saved optimizer has 22 variables. \n",
      "  saveable.load_own_variables(weights_store.get(inner_path))\n"
     ]
    }
   ],
   "source": [
    "from tensorflow import keras\n",
    "\n",
    "# Load the saved model\n",
    "model = keras.models.load_model('C:\\\\Users\\\\Santosh\\\\Desktop\\\\fyp\\\\src\\\\saved_models\\\\cnn_landmark_model.keras')\n"
   ]
  },
  {
   "cell_type": "code",
   "execution_count": null,
   "id": "50b27671",
   "metadata": {},
   "outputs": [],
   "source": [
    "import cv2\n",
    "import mediapipe as mp\n",
    "import numpy as np\n",
    "from tensorflow.keras.preprocessing.image import load_img, img_to_array"
   ]
  },
  {
   "cell_type": "code",
   "execution_count": null,
   "id": "46929419",
   "metadata": {},
   "outputs": [],
   "source": [
    "def load_image(image_path):\n",
    "    return cv2.imread(image_path)"
   ]
  },
  {
   "cell_type": "code",
   "execution_count": null,
   "id": "52bf0299",
   "metadata": {},
   "outputs": [],
   "source": [
    "def skeletonize_image(image):\n",
    "    mp_pose = mp.solutions.pose\n",
    "    mp_drawing = mp.solutions.drawing_utils\n",
    "    pose = mp_pose.Pose(static_image_mode=True, min_detection_confidence=0.5)\n",
    "    \n",
    "    image_rgb = cv2.cvtColor(image, cv2.COLOR_BGR2RGB)\n",
    "    result = pose.process(image_rgb)\n",
    "    \n",
    "    skeleton_image = np.zeros_like(image)\n",
    "    if result.pose_landmarks:\n",
    "        mp_drawing.draw_landmarks(\n",
    "            skeleton_image, \n",
    "            result.pose_landmarks, \n",
    "            mp_pose.POSE_CONNECTIONS,\n",
    "            landmark_drawing_spec=mp_drawing.DrawingSpec(color=(255, 255, 255), thickness=5, circle_radius=5),\n",
    "            connection_drawing_spec=mp_drawing.DrawingSpec(color=(255, 255, 255), thickness=2, circle_radius=2)\n",
    "        )\n",
    "    return skeleton_image"
   ]
  },
  {
   "cell_type": "code",
   "execution_count": null,
   "id": "28e2287b",
   "metadata": {},
   "outputs": [],
   "source": [
    "def preprocess_image(image, target_size=(75, 75)):\n",
    "    img = cv2.resize(image, target_size)\n",
    "    img_array = img_to_array(img)\n",
    "    img_array = img_array / 255.0\n",
    "    img_array = np.expand_dims(img_array, axis=0)\n",
    "    return img_array"
   ]
  },
  {
   "cell_type": "code",
   "execution_count": null,
   "id": "d9e1f23d",
   "metadata": {},
   "outputs": [],
   "source": [
    "def predict(preprocessed_image, model):\n",
    "    pose_map = {0: 'downdog', 1: 'goddess', 2: 'plank', 3: 'tree', 4: 'warrior'}\n",
    "    predi = model.predict(preprocessed_image)\n",
    "    predicted_class_index = np.argmax(predi, axis=1)[0]\n",
    "    predicted_pose_name = pose_map[predicted_class_index]\n",
    "    return predicted_pose_name\n",
    "    #return model.predict(preprocessed_image)"
   ]
  },
  {
   "cell_type": "code",
   "execution_count": null,
   "id": "61d7643b",
   "metadata": {},
   "outputs": [],
   "source": [
    "def image_processing_pipeline(image_path, output_path=None):\n",
    "    # Stage 1: Load Image\n",
    "    original_image = load_image(image_path)\n",
    "    \n",
    "    # Stage 2: Skeletonize\n",
    "    skeleton_image = skeletonize_image(original_image)\n",
    "    \n",
    "    # Save skeletonized image if output_path is provided\n",
    "    if output_path:\n",
    "        cv2.imwrite(output_path, skeleton_image)\n",
    "    \n",
    "    # Stage 3: Preprocess\n",
    "    preprocessed_image = preprocess_image(skeleton_image)\n",
    "    \n",
    "    # Stage 4: Model Prediction (if applicable)\n",
    "    prediction = predict(preprocessed_image, m1)\n",
    "    \n",
    "    return prediction  # Or return prediction if you have a model\n"
   ]
  },
  {
   "cell_type": "code",
   "execution_count": null,
   "id": "afec74f2",
   "metadata": {},
   "outputs": [],
   "source": [
    "# Example usage\n",
    "input_image_path = 'C:\\\\Users\\\\Santosh\\\\Desktop\\\\fyp\\\\DATASET\\\\wart.jpg'\n",
    "output_skeleton_path = 'C:\\\\Users\\\\Santosh\\\\Desktop\\\\fyp\\\\DATASET\\\\skeletonized_wart.jpg'\n",
    "\n",
    "result = image_processing_pipeline(input_image_path, output_skeleton_path)\n",
    "print(\"Image processed successfully.\")\n"
   ]
  },
  {
   "cell_type": "code",
   "execution_count": null,
   "id": "bde677c6",
   "metadata": {},
   "outputs": [],
   "source": [
    "print(result)"
   ]
  }
 ],
 "metadata": {
  "kernelspec": {
   "display_name": "Python 3 (ipykernel)",
   "language": "python",
   "name": "python3"
  },
  "language_info": {
   "codemirror_mode": {
    "name": "ipython",
    "version": 3
   },
   "file_extension": ".py",
   "mimetype": "text/x-python",
   "name": "python",
   "nbconvert_exporter": "python",
   "pygments_lexer": "ipython3",
   "version": "3.10.4"
  }
 },
 "nbformat": 4,
 "nbformat_minor": 5
}
